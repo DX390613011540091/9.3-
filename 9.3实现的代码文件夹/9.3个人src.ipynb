{
 "cells": [
  {
   "cell_type": "code",
   "execution_count": 3,
   "id": "a3dd9ed7",
   "metadata": {},
   "outputs": [],
   "source": [
    "# 假设白名单保存在 filtered_barcodes.txt 中，每行一个条形码\n",
    "with open(r'D:\\空间转录组理论知识与工具\\used_barcodes.txt', 'r') as f:\n",
    "    filtered_barcodes = [line.strip() for line in f.readlines()]"
   ]
  },
  {
   "cell_type": "code",
   "execution_count": 4,
   "id": "dd04b874",
   "metadata": {},
   "outputs": [],
   "source": [
    "import pandas as pd\n",
    "# 读取表达矩阵文件\n",
    "# 注意：需要正确处理第一行的特殊格式\n",
    "expr_matrix = pd.read_csv(r'D:\\空间转录组理论知识与工具\\Puck_200127_15.digital_expression.txt', sep='\\t', header=0)\n",
    "# 第一列是基因名，后续列是细胞条形码\n",
    "# 筛选出白名单中的细胞\n",
    "filtered_expr = expr_matrix[['GENE'] + filtered_barcodes]\n",
    "\n",
    "# 保存筛选后的表达矩阵\n",
    "filtered_expr.to_csv('filtered_expression_matrix.csv', index=False)"
   ]
  },
  {
   "cell_type": "code",
   "execution_count": null,
   "id": "7355638e",
   "metadata": {},
   "outputs": [],
   "source": [
    "# 查看前5行\n",
    "filtered_expr_head = filtered_expr.head()\n",
    "print(\"筛选后的表达矩阵前5行：\")\n",
    "print(filtered_expr_head)"
   ]
  },
  {
   "cell_type": "code",
   "execution_count": 8,
   "id": "31e7af86",
   "metadata": {},
   "outputs": [],
   "source": [
    "# 读取空间坐标文件\n",
    "spatial_data = pd.read_csv(r'D:\\空间转录组理论知识与工具\\Puck_200127_15_bead_locations.csv')  # 需要你先整理这个文件\n",
    "\n",
    "# 筛选出白名单中的细胞\n",
    "filtered_spatial = spatial_data[spatial_data['barcode'].isin(filtered_barcodes)]\n",
    "\n",
    "# 保存筛选后的空间数据\n",
    "filtered_spatial.to_csv('filtered_spatial_coordinates.csv', index=False)"
   ]
  },
  {
   "cell_type": "code",
   "execution_count": 9,
   "id": "bf2303a6",
   "metadata": {},
   "outputs": [],
   "source": [
    "# 创建简洁的元数据表\n",
    "metadata = pd.DataFrame({\n",
    "    'Cell_ID': filtered_barcodes,\n",
    "    'Sample': 'Pack_200127_15'  # 所有细胞来自同一个样本\n",
    "})\n",
    "\n",
    "# 如果需要加入空间坐标\n",
    "if not filtered_spatial.empty:\n",
    "    metadata = metadata.merge(\n",
    "        filtered_spatial[['barcode', 'xcoord', 'ycoord']],\n",
    "        left_on='Cell_ID',\n",
    "        right_on='barcode'\n",
    "    ).drop('barcode', axis=1)\n",
    "\n",
    "metadata.to_csv('final_cell_metadata.csv', index=False)"
   ]
  },
  {
   "cell_type": "code",
   "execution_count": null,
   "id": "dddb4594",
   "metadata": {},
   "outputs": [],
   "source": [
    "input_file1='/content/final_cell_metadata.csv'\n",
    "input_file2='/content/filtered_expression_matrix.csv'\n",
    "run_options = Values()\n",
    "run_options.NN_dir = './output/Slide-seqV2_NN'\n",
    "run_options.GNN_dir = './output/Slide-seqV2_GNN'\n",
    "run_options.NT_dir = './output/Slide-seqV2_NT'\n",
    "run_options.meta_input = input_file1\n",
    "run_options.expr_input = input_file2\n",
    "run_options.n_neighbors = 50\n",
    "run_options.device = 'cuda'  # 将 'cuda' 改为 'cpu'\n",
    "run_options.epochs = 1000\n",
    "run_options.hidden_feats = 4\n",
    "run_options.n_gcn_layers = 2\n",
    "run_options.k = 6\n",
    "run_options.modularity_loss_weight = 0.3\n",
    "run_options.purity_loss_weight = 300.0\n",
    "run_options.regularization_loss_weight = 0.1\n",
    "run_options.beta = 0.03\n",
    "run_options.trajectory_construct = 'BF'\n",
    "run_options.seed = 42           # ← 缺少的\n",
    "run_options.lr = 0.03           # ← 缺少的（学习率）\n",
    "run_options.patience = 100      # ← 缺少的\n",
    "run_options.min_delta = 0.001   # ← 缺少的\n",
    "run_options.min_epochs = 50     # ← 缺少的"
   ]
  },
  {
   "cell_type": "code",
   "execution_count": null,
   "id": "8f3919cc",
   "metadata": {},
   "outputs": [],
   "source": [
    "run_options.n_local = 20  # ← 缺少的关键参数！用于定义生态位大小的最近邻数\n",
    "run_options.batch_size = 0 # use full batch training怎么是0？"
   ]
  },
  {
   "cell_type": "code",
   "execution_count": null,
   "id": "3ba8f3a6",
   "metadata": {},
   "outputs": [],
   "source": [
    "vis_options = Values()\n",
    "vis_options.NN_dir = run_options.NN_dir\n",
    "vis_options.GNN_dir = run_options.GNN_dir\n",
    "vis_options.NT_dir = run_options.NT_dir\n",
    "vis_options.output = None\n",
    "vis_options.reverse = True"
   ]
  },
  {
   "cell_type": "code",
   "execution_count": null,
   "id": "42f916e4",
   "metadata": {},
   "outputs": [],
   "source": [
    "niche_network_construct(options=run_options) "
   ]
  }
 ],
 "metadata": {
  "kernelspec": {
   "display_name": "Python 3.11 (ONTraC)",
   "language": "python",
   "name": "ontrac"
  },
  "language_info": {
   "codemirror_mode": {
    "name": "ipython",
    "version": 3
   },
   "file_extension": ".py",
   "mimetype": "text/x-python",
   "name": "python",
   "nbconvert_exporter": "python",
   "pygments_lexer": "ipython3",
   "version": "3.11.13"
  }
 },
 "nbformat": 4,
 "nbformat_minor": 5
}
